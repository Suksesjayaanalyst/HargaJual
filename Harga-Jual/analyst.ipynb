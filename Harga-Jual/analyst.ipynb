{
 "cells": [
  {
   "cell_type": "code",
   "execution_count": 3,
   "metadata": {},
   "outputs": [],
   "source": [
    "import pandas as pd\n",
    "import numpy as np"
   ]
  },
  {
   "cell_type": "code",
   "execution_count": 4,
   "metadata": {},
   "outputs": [],
   "source": [
    "data = pd.read_excel(\"30-10-2024 CUSTOMER PRE ORDER & PRICE LIST.xlsx\")\n",
    "dataharga = pd.read_excel(\"Harga Jual v2.xlsx\")\n",
    "master = pd.read_excel(\"Catalogue Update.xlsx\")\n",
    "\n",
    "dataharga['Margin_Lusin'] = dataharga['Margin_Lusin'].str.replace('%','').str.replace(',','').astype(float) / 100\n",
    "dataharga['Margin_Koli'] = dataharga['Margin_Koli'].str.replace('%','').str.replace(',','').astype(float) / 100\n",
    "dataharga['Margin_Special'] = dataharga['Margin_Special'].str.replace('%','').str.replace(',','').astype(float) / 100"
   ]
  },
  {
   "cell_type": "code",
   "execution_count": 8,
   "metadata": {},
   "outputs": [],
   "source": [
    "master.rename(columns={'Item No.':'ItemCode'}, inplace=True)\n",
    "data = pd.merge(data, master[['ItemCode', 'Sub Item']], on='ItemCode', how='left').rename(columns={'Sub Item':'Sub_Item'})"
   ]
  },
  {
   "cell_type": "code",
   "execution_count": 9,
   "metadata": {},
   "outputs": [],
   "source": [
    "data = data[['ItemCode', 'Sub_Item', 'Modal']]"
   ]
  },
  {
   "cell_type": "code",
   "execution_count": 10,
   "metadata": {},
   "outputs": [
    {
     "name": "stderr",
     "output_type": "stream",
     "text": [
      "C:\\Users\\SJK2525\\AppData\\Local\\Temp\\ipykernel_4568\\1806041884.py:1: FutureWarning: The default value of numeric_only in DataFrameGroupBy.mean is deprecated. In a future version, numeric_only will default to False. Either specify numeric_only or select only columns which should be valid for the function.\n",
      "  fornewitem = dataharga.groupby('Sub_Item').mean().reset_index()\n"
     ]
    }
   ],
   "source": [
    "fornewitem = dataharga.groupby('Sub_Item').mean().reset_index()\n",
    "fornewitem.rename(columns={'Margin_Lusin':'Margin_Lusin_New', 'Margin_Koli':'Margin_Koli_New', 'Margin_Special':'Margin_Special_New'}, inplace=True)"
   ]
  },
  {
   "cell_type": "code",
   "execution_count": 11,
   "metadata": {},
   "outputs": [],
   "source": [
    "final = pd.merge(data, dataharga, on='ItemCode', how='left').rename(columns={'Harga_Modal':'Modal Terakhir'})\n",
    "final.fillna(0, inplace=True)\n"
   ]
  },
  {
   "cell_type": "code",
   "execution_count": 12,
   "metadata": {},
   "outputs": [],
   "source": [
    "final = final[['Sub_Item_x','ItemCode', 'Modal', 'Modal Terakhir', 'Margin_Lusin', 'Margin_Koli', 'Margin_Special','Harga_Jual_Lusin', 'Harga_Jual_Koli', 'Harga_Jual_Special']].rename(columns={'Sub_Item_x':'Sub_Item'})"
   ]
  },
  {
   "cell_type": "code",
   "execution_count": 13,
   "metadata": {},
   "outputs": [
    {
     "data": {
      "text/html": [
       "<div>\n",
       "<style scoped>\n",
       "    .dataframe tbody tr th:only-of-type {\n",
       "        vertical-align: middle;\n",
       "    }\n",
       "\n",
       "    .dataframe tbody tr th {\n",
       "        vertical-align: top;\n",
       "    }\n",
       "\n",
       "    .dataframe thead th {\n",
       "        text-align: right;\n",
       "    }\n",
       "</style>\n",
       "<table border=\"1\" class=\"dataframe\">\n",
       "  <thead>\n",
       "    <tr style=\"text-align: right;\">\n",
       "      <th></th>\n",
       "      <th>Sub_Item</th>\n",
       "      <th>ItemCode</th>\n",
       "      <th>Modal</th>\n",
       "      <th>Modal Terakhir</th>\n",
       "      <th>Margin_Lusin</th>\n",
       "      <th>Margin_Koli</th>\n",
       "      <th>Margin_Special</th>\n",
       "      <th>Harga_Jual_Lusin</th>\n",
       "      <th>Harga_Jual_Koli</th>\n",
       "      <th>Harga_Jual_Special</th>\n",
       "    </tr>\n",
       "  </thead>\n",
       "  <tbody>\n",
       "    <tr>\n",
       "      <th>18</th>\n",
       "      <td>SISIR GAGANG</td>\n",
       "      <td>SSR-2302W2</td>\n",
       "      <td>59034.170556</td>\n",
       "      <td>0.0</td>\n",
       "      <td>0.0</td>\n",
       "      <td>0.0</td>\n",
       "      <td>0.0</td>\n",
       "      <td>0.0</td>\n",
       "      <td>0.0</td>\n",
       "      <td>0.0</td>\n",
       "    </tr>\n",
       "  </tbody>\n",
       "</table>\n",
       "</div>"
      ],
      "text/plain": [
       "        Sub_Item    ItemCode         Modal  Modal Terakhir  Margin_Lusin  \\\n",
       "18  SISIR GAGANG  SSR-2302W2  59034.170556             0.0           0.0   \n",
       "\n",
       "    Margin_Koli  Margin_Special  Harga_Jual_Lusin  Harga_Jual_Koli  \\\n",
       "18          0.0             0.0               0.0              0.0   \n",
       "\n",
       "    Harga_Jual_Special  \n",
       "18                 0.0  "
      ]
     },
     "execution_count": 13,
     "metadata": {},
     "output_type": "execute_result"
    }
   ],
   "source": [
    "final[final['ItemCode'] == 'SSR-2302W2']"
   ]
  },
  {
   "cell_type": "code",
   "execution_count": 14,
   "metadata": {},
   "outputs": [],
   "source": [
    "final = pd.merge(final, fornewitem[['Sub_Item', 'Margin_Lusin_New', 'Margin_Koli_New', 'Margin_Special_New']], on='Sub_Item', how='left')"
   ]
  },
  {
   "cell_type": "code",
   "execution_count": 15,
   "metadata": {},
   "outputs": [],
   "source": [
    "final['HargaLusinFinal'] = np.where(final['Margin_Lusin_New'] == 0,(((final['Modal'] * final['Margin_Lusin']) + final['Modal'])/500).round() * 500 ,(((final['Modal'] * final['Margin_Lusin_New']) + final['Modal'])/500).round() * 500 )\n",
    "\n",
    "final['HargaKoliFinal'] = np.where(final['Margin_Koli_New'] == 0,(((final['Modal'] * final['Margin_Koli'])+final['Modal'])/500).round() * 500 ,(((final['Modal'] * final['Margin_Koli_New'])+final['Modal'])/500).round() * 500 )\n",
    "\n",
    "final['HargaSpecialFinal'] = np.where(final['Margin_Special_New'] == 0,(((final['Modal'] * final['Margin_Special'])+final['Modal'])/500).round() * 500 ,(((final['Modal'] * final['Margin_Special_New'])+final['Modal'])/500).round() * 500 )"
   ]
  },
  {
   "cell_type": "code",
   "execution_count": 18,
   "metadata": {},
   "outputs": [
    {
     "data": {
      "text/html": [
       "<div>\n",
       "<style scoped>\n",
       "    .dataframe tbody tr th:only-of-type {\n",
       "        vertical-align: middle;\n",
       "    }\n",
       "\n",
       "    .dataframe tbody tr th {\n",
       "        vertical-align: top;\n",
       "    }\n",
       "\n",
       "    .dataframe thead th {\n",
       "        text-align: right;\n",
       "    }\n",
       "</style>\n",
       "<table border=\"1\" class=\"dataframe\">\n",
       "  <thead>\n",
       "    <tr style=\"text-align: right;\">\n",
       "      <th></th>\n",
       "      <th>Sub_Item</th>\n",
       "      <th>ItemCode</th>\n",
       "      <th>Modal</th>\n",
       "      <th>Modal Terakhir</th>\n",
       "      <th>Margin_Lusin</th>\n",
       "      <th>Margin_Koli</th>\n",
       "      <th>Margin_Special</th>\n",
       "      <th>Harga_Jual_Lusin</th>\n",
       "      <th>Harga_Jual_Koli</th>\n",
       "      <th>Harga_Jual_Special</th>\n",
       "      <th>Margin_Lusin_New</th>\n",
       "      <th>Margin_Koli_New</th>\n",
       "      <th>Margin_Special_New</th>\n",
       "      <th>HargaLusinFinal</th>\n",
       "      <th>HargaKoliFinal</th>\n",
       "      <th>HargaSpecialFinal</th>\n",
       "    </tr>\n",
       "  </thead>\n",
       "  <tbody>\n",
       "    <tr>\n",
       "      <th>18</th>\n",
       "      <td>SISIR GAGANG</td>\n",
       "      <td>SSR-2302W2</td>\n",
       "      <td>59034.170556</td>\n",
       "      <td>0.0</td>\n",
       "      <td>0.0</td>\n",
       "      <td>0.0</td>\n",
       "      <td>0.0</td>\n",
       "      <td>0.0</td>\n",
       "      <td>0.0</td>\n",
       "      <td>0.0</td>\n",
       "      <td>0.366436</td>\n",
       "      <td>0.329378</td>\n",
       "      <td>0.297216</td>\n",
       "      <td>80500.0</td>\n",
       "      <td>78500.0</td>\n",
       "      <td>76500.0</td>\n",
       "    </tr>\n",
       "  </tbody>\n",
       "</table>\n",
       "</div>"
      ],
      "text/plain": [
       "        Sub_Item    ItemCode         Modal  Modal Terakhir  Margin_Lusin  \\\n",
       "18  SISIR GAGANG  SSR-2302W2  59034.170556             0.0           0.0   \n",
       "\n",
       "    Margin_Koli  Margin_Special  Harga_Jual_Lusin  Harga_Jual_Koli  \\\n",
       "18          0.0             0.0               0.0              0.0   \n",
       "\n",
       "    Harga_Jual_Special  Margin_Lusin_New  Margin_Koli_New  Margin_Special_New  \\\n",
       "18                 0.0          0.366436         0.329378            0.297216   \n",
       "\n",
       "    HargaLusinFinal  HargaKoliFinal  HargaSpecialFinal  \n",
       "18          80500.0         78500.0            76500.0  "
      ]
     },
     "execution_count": 18,
     "metadata": {},
     "output_type": "execute_result"
    }
   ],
   "source": [
    "final[final['ItemCode'] == 'SSR-2302W2']"
   ]
  },
  {
   "cell_type": "code",
   "execution_count": null,
   "metadata": {},
   "outputs": [],
   "source": [
    "#Upper\n",
    "\n",
    "itemcode = \"iniadalahkecil\"\n",
    "itemcode = itemcode.upper()\n",
    "\n",
    "\n",
    "final['ItemCode'] = final['ItemCode'].str.upper()"
   ]
  },
  {
   "cell_type": "code",
   "execution_count": 20,
   "metadata": {},
   "outputs": [
    {
     "data": {
      "text/html": [
       "<div>\n",
       "<style scoped>\n",
       "    .dataframe tbody tr th:only-of-type {\n",
       "        vertical-align: middle;\n",
       "    }\n",
       "\n",
       "    .dataframe tbody tr th {\n",
       "        vertical-align: top;\n",
       "    }\n",
       "\n",
       "    .dataframe thead th {\n",
       "        text-align: right;\n",
       "    }\n",
       "</style>\n",
       "<table border=\"1\" class=\"dataframe\">\n",
       "  <thead>\n",
       "    <tr style=\"text-align: right;\">\n",
       "      <th></th>\n",
       "      <th>Sub_Item</th>\n",
       "      <th>ItemCode</th>\n",
       "      <th>Modal</th>\n",
       "      <th>Modal Terakhir</th>\n",
       "      <th>Margin_Lusin</th>\n",
       "      <th>Margin_Koli</th>\n",
       "      <th>Margin_Special</th>\n",
       "      <th>Harga_Jual_Lusin</th>\n",
       "      <th>Harga_Jual_Koli</th>\n",
       "      <th>Harga_Jual_Special</th>\n",
       "      <th>Margin_Lusin_New</th>\n",
       "      <th>Margin_Koli_New</th>\n",
       "      <th>Margin_Special_New</th>\n",
       "      <th>HargaLusinFinal</th>\n",
       "      <th>HargaKoliFinal</th>\n",
       "      <th>HargaSpecialFinal</th>\n",
       "    </tr>\n",
       "  </thead>\n",
       "  <tbody>\n",
       "    <tr>\n",
       "      <th>51</th>\n",
       "      <td>PEN MEKANIK</td>\n",
       "      <td>PEN-2793W</td>\n",
       "      <td>79696.130251</td>\n",
       "      <td>83780.49</td>\n",
       "      <td>0.2533</td>\n",
       "      <td>0.2294</td>\n",
       "      <td>0.2175</td>\n",
       "      <td>105000.0</td>\n",
       "      <td>103000.0</td>\n",
       "      <td>102000.0</td>\n",
       "      <td>0.351582</td>\n",
       "      <td>0.326222</td>\n",
       "      <td>0.305428</td>\n",
       "      <td>107500.0</td>\n",
       "      <td>105500.0</td>\n",
       "      <td>104000.0</td>\n",
       "    </tr>\n",
       "  </tbody>\n",
       "</table>\n",
       "</div>"
      ],
      "text/plain": [
       "       Sub_Item   ItemCode         Modal  Modal Terakhir  Margin_Lusin  \\\n",
       "51  PEN MEKANIK  PEN-2793W  79696.130251        83780.49        0.2533   \n",
       "\n",
       "    Margin_Koli  Margin_Special  Harga_Jual_Lusin  Harga_Jual_Koli  \\\n",
       "51       0.2294          0.2175          105000.0         103000.0   \n",
       "\n",
       "    Harga_Jual_Special  Margin_Lusin_New  Margin_Koli_New  Margin_Special_New  \\\n",
       "51            102000.0          0.351582         0.326222            0.305428   \n",
       "\n",
       "    HargaLusinFinal  HargaKoliFinal  HargaSpecialFinal  \n",
       "51         107500.0        105500.0           104000.0  "
      ]
     },
     "execution_count": 20,
     "metadata": {},
     "output_type": "execute_result"
    }
   ],
   "source": [
    "final.sample()"
   ]
  }
 ],
 "metadata": {
  "kernelspec": {
   "display_name": "Python 3",
   "language": "python",
   "name": "python3"
  },
  "language_info": {
   "codemirror_mode": {
    "name": "ipython",
    "version": 3
   },
   "file_extension": ".py",
   "mimetype": "text/x-python",
   "name": "python",
   "nbconvert_exporter": "python",
   "pygments_lexer": "ipython3",
   "version": "3.11.5"
  }
 },
 "nbformat": 4,
 "nbformat_minor": 2
}
